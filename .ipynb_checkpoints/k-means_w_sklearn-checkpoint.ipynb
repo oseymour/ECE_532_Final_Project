{
 "cells": [
  {
   "cell_type": "code",
   "execution_count": 2,
   "metadata": {},
   "outputs": [],
   "source": [
    "import numpy as np\n",
    "import tensorflow as tf\n",
    "import matplotlib.pyplot as plt\n",
    "from sklearn.metrics import classification_report\n",
    "from sklearn.cluster import KMeans"
   ]
  },
  {
   "cell_type": "markdown",
   "metadata": {},
   "source": [
    "# Load data"
   ]
  },
  {
   "cell_type": "code",
   "execution_count": 4,
   "metadata": {},
   "outputs": [],
   "source": [
    "# load images\n",
    "(x_train, y_train), (x_test, y_test) = tf.keras.datasets.mnist.load_data()\n",
    "\n",
    "# vectorize all of the images\n",
    "x_train = x_train.reshape(-1, 784)\n",
    "y_train = y_train.reshape(-1,1)\n",
    "x_test = x_test.reshape(-1, 784)\n",
    "y_test = y_test.reshape(-1,1)"
   ]
  },
  {
   "cell_type": "markdown",
   "metadata": {},
   "source": [
    "# 10 random initial clusters"
   ]
  },
  {
   "cell_type": "code",
   "execution_count": 24,
   "metadata": {},
   "outputs": [
    {
     "name": "stdout",
     "output_type": "stream",
     "text": [
      "              precision    recall  f1-score   support\n",
      "\n",
      "           0       0.91      0.47      0.62      5923\n",
      "           1       0.62      0.55      0.58      6742\n",
      "           2       0.90      0.70      0.79      5958\n",
      "           3       0.53      0.64      0.58      6131\n",
      "           4       0.00      0.00      0.00      5842\n",
      "           5       0.14      0.15      0.15      5421\n",
      "           6       0.04      0.02      0.03      5918\n",
      "           7       0.43      0.60      0.50      6265\n",
      "           8       0.01      0.01      0.01      5851\n",
      "           9       0.32      0.49      0.39      5949\n",
      "\n",
      "    accuracy                           0.37     60000\n",
      "   macro avg       0.39      0.36      0.36     60000\n",
      "weighted avg       0.40      0.37      0.37     60000\n",
      "\n",
      "              precision    recall  f1-score   support\n",
      "\n",
      "           0       0.91      0.46      0.61       980\n",
      "           1       0.66      0.58      0.62      1135\n",
      "           2       0.88      0.69      0.77      1032\n",
      "           3       0.53      0.69      0.60      1010\n",
      "           4       0.00      0.00      0.00       982\n",
      "           5       0.12      0.12      0.12       892\n",
      "           6       0.04      0.03      0.03       958\n",
      "           7       0.42      0.59      0.49      1028\n",
      "           8       0.01      0.01      0.01       974\n",
      "           9       0.35      0.54      0.42      1009\n",
      "\n",
      "    accuracy                           0.38     10000\n",
      "   macro avg       0.39      0.37      0.37     10000\n",
      "weighted avg       0.40      0.38      0.38     10000\n",
      "\n"
     ]
    }
   ],
   "source": [
    "# create and fit model\n",
    "model = KMeans(n_clusters=10, init='random')\n",
    "model.fit(x_train, y_train)\n",
    "\n",
    "# training and testing error\n",
    "yhat = model.predict(x_train)\n",
    "print(classification_report(y_train, yhat))\n",
    "yhat = model.predict(x_test)\n",
    "print(classification_report(y_test, yhat))"
   ]
  },
  {
   "cell_type": "markdown",
   "metadata": {},
   "source": [
    "# 20 random initial clusters"
   ]
  },
  {
   "cell_type": "code",
   "execution_count": 19,
   "metadata": {},
   "outputs": [
    {
     "name": "stdout",
     "output_type": "stream",
     "text": [
      "              precision    recall  f1-score   support\n",
      "\n",
      "           0       0.00      0.00      0.00      5923\n",
      "           1       0.00      0.00      0.00      6742\n",
      "           2       0.00      0.00      0.00      5958\n",
      "           3       0.01      0.00      0.00      6131\n",
      "           4       0.01      0.00      0.00      5842\n",
      "           5       0.04      0.02      0.03      5421\n",
      "           6       0.87      0.50      0.63      5918\n",
      "           7       0.03      0.01      0.02      6265\n",
      "           8       0.20      0.15      0.17      5851\n",
      "           9       0.00      0.00      0.00      5949\n",
      "          10       0.00      0.00      0.00         0\n",
      "          11       0.00      0.00      0.00         0\n",
      "          12       0.00      0.00      0.00         0\n",
      "          13       0.00      0.00      0.00         0\n",
      "          14       0.00      0.00      0.00         0\n",
      "          15       0.00      0.00      0.00         0\n",
      "          16       0.00      0.00      0.00         0\n",
      "          17       0.00      0.00      0.00         0\n",
      "          18       0.00      0.00      0.00         0\n",
      "          19       0.00      0.00      0.00         0\n",
      "\n",
      "    accuracy                           0.07     60000\n",
      "   macro avg       0.06      0.03      0.04     60000\n",
      "weighted avg       0.11      0.07      0.08     60000\n",
      "\n",
      "              precision    recall  f1-score   support\n",
      "\n",
      "           0       0.00      0.00      0.00       980\n",
      "           1       0.00      0.00      0.00      1135\n",
      "           2       0.00      0.00      0.00      1032\n",
      "           3       0.00      0.00      0.00      1010\n",
      "           4       0.00      0.00      0.00       982\n",
      "           5       0.03      0.03      0.03       892\n",
      "           6       0.86      0.40      0.54       958\n",
      "           7       0.03      0.01      0.02      1028\n",
      "           8       0.22      0.16      0.19       974\n",
      "           9       0.02      0.01      0.01      1009\n",
      "          10       0.00      0.00      0.00         0\n",
      "          11       0.00      0.00      0.00         0\n",
      "          12       0.00      0.00      0.00         0\n",
      "          13       0.00      0.00      0.00         0\n",
      "          14       0.00      0.00      0.00         0\n",
      "          15       0.00      0.00      0.00         0\n",
      "          16       0.00      0.00      0.00         0\n",
      "          17       0.00      0.00      0.00         0\n",
      "          18       0.00      0.00      0.00         0\n",
      "          19       0.00      0.00      0.00         0\n",
      "\n",
      "    accuracy                           0.06     10000\n",
      "   macro avg       0.06      0.03      0.04     10000\n",
      "weighted avg       0.11      0.06      0.08     10000\n",
      "\n"
     ]
    },
    {
     "name": "stderr",
     "output_type": "stream",
     "text": [
      "C:\\Users\\Owner\\anaconda3\\lib\\site-packages\\sklearn\\metrics\\_classification.py:1221: UndefinedMetricWarning: Recall and F-score are ill-defined and being set to 0.0 in labels with no true samples. Use `zero_division` parameter to control this behavior.\n",
      "  _warn_prf(average, modifier, msg_start, len(result))\n",
      "C:\\Users\\Owner\\anaconda3\\lib\\site-packages\\sklearn\\metrics\\_classification.py:1221: UndefinedMetricWarning: Recall and F-score are ill-defined and being set to 0.0 in labels with no true samples. Use `zero_division` parameter to control this behavior.\n",
      "  _warn_prf(average, modifier, msg_start, len(result))\n"
     ]
    }
   ],
   "source": [
    "# create and fit model\n",
    "model = KMeans(n_clusters=20, init='random')\n",
    "model.fit(x_train, y_train)\n",
    "\n",
    "# training and testing error\n",
    "yhat = model.predict(x_train)\n",
    "print(classification_report(y_train, yhat))\n",
    "yhat = model.predict(x_test)\n",
    "print(classification_report(y_test, yhat))"
   ]
  },
  {
   "cell_type": "markdown",
   "metadata": {},
   "source": [
    "# 10 chosen initial clusters"
   ]
  },
  {
   "cell_type": "code",
   "execution_count": 27,
   "metadata": {},
   "outputs": [
    {
     "name": "stdout",
     "output_type": "stream",
     "text": [
      "              precision    recall  f1-score   support\n",
      "\n",
      "           0       0.01      0.01      0.01      5923\n",
      "           1       0.00      0.00      0.00      6742\n",
      "           2       0.01      0.01      0.01      5958\n",
      "           3       0.07      0.07      0.07      6131\n",
      "           4       0.04      0.04      0.04      5842\n",
      "           5       0.01      0.01      0.01      5421\n",
      "           6       0.01      0.01      0.01      5918\n",
      "           7       0.00      0.00      0.00      6265\n",
      "           8       0.01      0.01      0.01      5851\n",
      "           9       0.00      0.00      0.00      5949\n",
      "\n",
      "    accuracy                           0.01     60000\n",
      "   macro avg       0.02      0.02      0.02     60000\n",
      "weighted avg       0.02      0.01      0.02     60000\n",
      "\n",
      "              precision    recall  f1-score   support\n",
      "\n",
      "           0       0.00      0.00      0.00       980\n",
      "           1       0.00      0.00      0.00      1135\n",
      "           2       0.01      0.01      0.01      1032\n",
      "           3       0.07      0.07      0.07      1010\n",
      "           4       0.06      0.05      0.05       982\n",
      "           5       0.01      0.01      0.01       892\n",
      "           6       0.00      0.00      0.00       958\n",
      "           7       0.00      0.00      0.00      1028\n",
      "           8       0.01      0.01      0.01       974\n",
      "           9       0.01      0.00      0.01      1009\n",
      "\n",
      "    accuracy                           0.02     10000\n",
      "   macro avg       0.02      0.02      0.02     10000\n",
      "weighted avg       0.02      0.02      0.02     10000\n",
      "\n"
     ]
    }
   ],
   "source": [
    "# create and fit model\n",
    "model = KMeans(n_clusters=10, init='k-means++')\n",
    "model.fit(x_train, y_train)\n",
    "\n",
    "# training and testing error\n",
    "yhat = model.predict(x_train)\n",
    "print(classification_report(y_train, yhat))\n",
    "yhat = model.predict(x_test)\n",
    "print(classification_report(y_test, yhat))"
   ]
  },
  {
   "cell_type": "code",
   "execution_count": 29,
   "metadata": {
    "scrolled": true
   },
   "outputs": [
    {
     "data": {
      "image/png": "[encoded data removed]",
      "text/plain": [
       "<Figure size 432x288 with 1 Axes>"
      ]
     },
     "metadata": {
      "needs_background": "light"
     },
     "output_type": "display_data"
    },
    {
     "data": {
      "image/png": "[encoded data removed]",
      "text/plain": [
       "<Figure size 432x288 with 1 Axes>"
      ]
     },
     "metadata": {
      "needs_background": "light"
     },
     "output_type": "display_data"
    },
    {
     "data": {
      "image/png": "[encoded data removed]",
      "text/plain": [
       "<Figure size 432x288 with 1 Axes>"
      ]
     },
     "metadata": {
      "needs_background": "light"
     },
     "output_type": "display_data"
    },
    {
     "data": {
      "image/png": "[encoded data removed]",
      "text/plain": [
       "<Figure size 432x288 with 1 Axes>"
      ]
     },
     "metadata": {
      "needs_background": "light"
     },
     "output_type": "display_data"
    },
    {
     "data": {
      "image/png": "[encoded data removed]",
      "text/plain": [
       "<Figure size 432x288 with 1 Axes>"
      ]
     },
     "metadata": {
      "needs_background": "light"
     },
     "output_type": "display_data"
    },
    {
     "data": {
      "image/png": "[encoded data removed]",
      "text/plain": [
       "<Figure size 432x288 with 1 Axes>"
      ]
     },
     "metadata": {
      "needs_background": "light"
     },
     "output_type": "display_data"
    },
    {
     "data": {
      "image/png": "[encoded data removed]",
      "text/plain": [
       "<Figure size 432x288 with 1 Axes>"
      ]
     },
     "metadata": {
      "needs_background": "light"
     },
     "output_type": "display_data"
    },
    {
     "data": {
      "image/png": "[encoded data removed]",
      "text/plain": [
       "<Figure size 432x288 with 1 Axes>"
      ]
     },
     "metadata": {
      "needs_background": "light"
     },
     "output_type": "display_data"
    },
    {
     "data": {
      "image/png": "[encoded data removed]",
      "text/plain": [
       "<Figure size 432x288 with 1 Axes>"
      ]
     },
     "metadata": {
      "needs_background": "light"
     },
     "output_type": "display_data"
    },
    {
     "data": {
      "image/png": "[encoded data removed]",
      "text/plain": [
       "<Figure size 432x288 with 1 Axes>"
      ]
     },
     "metadata": {
      "needs_background": "light"
     },
     "output_type": "display_data"
    }
   ],
   "source": [
    "for center in model.cluster_centers_:\n",
    "    plt.imshow(center.reshape(28,28))\n",
    "    plt.show()"
   ]
  },
  {
   "cell_type": "markdown",
   "metadata": {},
   "source": [
    "# 20 chosen initial clusters"
   ]
  },
  {
   "cell_type": "code",
   "execution_count": 26,
   "metadata": {},
   "outputs": [
    {
     "name": "stderr",
     "output_type": "stream",
     "text": [
      "C:\\Users\\Owner\\anaconda3\\lib\\site-packages\\sklearn\\metrics\\_classification.py:1221: UndefinedMetricWarning: Recall and F-score are ill-defined and being set to 0.0 in labels with no true samples. Use `zero_division` parameter to control this behavior.\n",
      "  _warn_prf(average, modifier, msg_start, len(result))\n",
      "C:\\Users\\Owner\\anaconda3\\lib\\site-packages\\sklearn\\metrics\\_classification.py:1221: UndefinedMetricWarning: Recall and F-score are ill-defined and being set to 0.0 in labels with no true samples. Use `zero_division` parameter to control this behavior.\n",
      "  _warn_prf(average, modifier, msg_start, len(result))\n"
     ]
    },
    {
     "name": "stdout",
     "output_type": "stream",
     "text": [
      "              precision    recall  f1-score   support\n",
      "\n",
      "           0       0.00      0.00      0.00      5923\n",
      "           1       0.82      0.54      0.65      6742\n",
      "           2       0.03      0.02      0.02      5958\n",
      "           3       0.01      0.00      0.00      6131\n",
      "           4       0.00      0.00      0.00      5842\n",
      "           5       0.90      0.33      0.48      5421\n",
      "           6       0.03      0.01      0.01      5918\n",
      "           7       0.00      0.00      0.00      6265\n",
      "           8       0.02      0.01      0.02      5851\n",
      "           9       0.03      0.02      0.02      5949\n",
      "          10       0.00      0.00      0.00         0\n",
      "          11       0.00      0.00      0.00         0\n",
      "          12       0.00      0.00      0.00         0\n",
      "          13       0.00      0.00      0.00         0\n",
      "          14       0.00      0.00      0.00         0\n",
      "          15       0.00      0.00      0.00         0\n",
      "          16       0.00      0.00      0.00         0\n",
      "          17       0.00      0.00      0.00         0\n",
      "          18       0.00      0.00      0.00         0\n",
      "          19       0.00      0.00      0.00         0\n",
      "\n",
      "    accuracy                           0.10     60000\n",
      "   macro avg       0.09      0.05      0.06     60000\n",
      "weighted avg       0.18      0.10      0.12     60000\n",
      "\n",
      "              precision    recall  f1-score   support\n",
      "\n",
      "           0       0.00      0.00      0.00       980\n",
      "           1       0.85      0.57      0.68      1135\n",
      "           2       0.04      0.03      0.03      1032\n",
      "           3       0.00      0.00      0.00      1010\n",
      "           4       0.00      0.00      0.00       982\n",
      "           5       0.90      0.37      0.52       892\n",
      "           6       0.03      0.01      0.01       958\n",
      "           7       0.00      0.00      0.00      1028\n",
      "           8       0.02      0.01      0.02       974\n",
      "           9       0.03      0.01      0.02      1009\n",
      "          10       0.00      0.00      0.00         0\n",
      "          11       0.00      0.00      0.00         0\n",
      "          12       0.00      0.00      0.00         0\n",
      "          13       0.00      0.00      0.00         0\n",
      "          14       0.00      0.00      0.00         0\n",
      "          15       0.00      0.00      0.00         0\n",
      "          16       0.00      0.00      0.00         0\n",
      "          17       0.00      0.00      0.00         0\n",
      "          18       0.00      0.00      0.00         0\n",
      "          19       0.00      0.00      0.00         0\n",
      "\n",
      "    accuracy                           0.10     10000\n",
      "   macro avg       0.09      0.05      0.06     10000\n",
      "weighted avg       0.19      0.10      0.13     10000\n",
      "\n"
     ]
    }
   ],
   "source": [
    "# create and fit model\n",
    "model = KMeans(n_clusters=20, init='k-means++')\n",
    "model.fit(x_train, y_train)\n",
    "\n",
    "# training and testing error\n",
    "yhat = model.predict(x_train)\n",
    "print(classification_report(y_train, yhat))\n",
    "yhat = model.predict(x_test)\n",
    "print(classification_report(y_test, yhat))"
   ]
  }
 ],
 "metadata": {
  "kernelspec": {
   "display_name": "Python 3",
   "language": "python",
   "name": "python3"
  },
  "language_info": {
   "codemirror_mode": {
    "name": "ipython",
    "version": 3
   },
   "file_extension": ".py",
   "mimetype": "text/x-python",
   "name": "python",
   "nbconvert_exporter": "python",
   "pygments_lexer": "ipython3",
   "version": "3.8.3"
  }
 },
 "nbformat": 4,
 "nbformat_minor": 4
}
