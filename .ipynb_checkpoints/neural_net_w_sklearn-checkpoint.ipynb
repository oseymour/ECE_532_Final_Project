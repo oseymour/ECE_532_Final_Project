{
 "cells": [
  {
   "cell_type": "code",
   "execution_count": 1,
   "metadata": {},
   "outputs": [],
   "source": [
    "import numpy as np\n",
    "import tensorflow as tf\n",
    "import matplotlib.pyplot as plt\n",
    "from sklearn.metrics import classification_report\n",
    "import keras\n",
    "from keras.models import Sequential\n",
    "from keras.layers import Dense\n",
    "from sklearn.preprocessing import OneHotEncoder"
   ]
  },
  {
   "cell_type": "markdown",
   "metadata": {},
   "source": [
    "# Load the data"
   ]
  },
  {
   "cell_type": "code",
   "execution_count": 2,
   "metadata": {},
   "outputs": [],
   "source": [
    "# load images\n",
    "(x_train, y_train), (x_test, y_test) = tf.keras.datasets.mnist.load_data()\n",
    "\n",
    "# vectorize all of the images\n",
    "x_train = x_train.reshape(-1, 784)\n",
    "y_train = y_train.reshape(-1,1)\n",
    "x_test = x_test.reshape(-1, 784)\n",
    "y_test = y_test.reshape(-1,1)\n",
    "\n",
    "# Onehot encode the labels for neural net\n",
    "one_hot = OneHotEncoder()\n",
    "y_train_onehot = one_hot.fit_transform(y_train.reshape(-1,1)).toarray()\n",
    "y_test_onehot = one_hot.fit_transform(y_test.reshape(-1,1)).toarray()"
   ]
  },
  {
   "cell_type": "markdown",
   "metadata": {},
   "source": [
    "# 3-layer neural net"
   ]
  },
  {
   "cell_type": "code",
   "execution_count": 13,
   "metadata": {},
   "outputs": [
    {
     "name": "stdout",
     "output_type": "stream",
     "text": [
      "1875/1875 [==============================] - 2s 1ms/step - loss: 1.9691 - accuracy: 0.3520\n",
      "              precision    recall  f1-score   support\n",
      "\n",
      "           0       0.92      0.82      0.87      5923\n",
      "           1       0.49      0.96      0.65      6742\n",
      "           2       0.00      0.00      0.00      5958\n",
      "           3       0.18      0.00      0.00      6131\n",
      "           4       0.00      0.00      0.00      5842\n",
      "           5       0.26      0.75      0.38      5421\n",
      "           6       0.98      0.74      0.84      5918\n",
      "           7       0.24      0.00      0.00      6265\n",
      "           8       0.00      0.00      0.00      5851\n",
      "           9       0.26      0.94      0.41      5949\n",
      "\n",
      "    accuracy                           0.42     60000\n",
      "   macro avg       0.33      0.42      0.32     60000\n",
      "weighted avg       0.33      0.42      0.32     60000\n",
      "\n",
      "              precision    recall  f1-score   support\n",
      "\n",
      "           0       0.91      0.84      0.88       980\n",
      "           1       0.50      0.97      0.66      1135\n",
      "           2       0.00      0.00      0.00      1032\n",
      "           3       0.40      0.00      0.00      1010\n",
      "           4       0.00      0.00      0.00       982\n",
      "           5       0.26      0.77      0.39       892\n",
      "           6       0.96      0.75      0.85       958\n",
      "           7       0.25      0.00      0.00      1028\n",
      "           8       0.00      0.00      0.00       974\n",
      "           9       0.27      0.93      0.42      1009\n",
      "\n",
      "    accuracy                           0.43     10000\n",
      "   macro avg       0.36      0.43      0.32     10000\n",
      "weighted avg       0.35      0.43      0.32     10000\n",
      "\n"
     ]
    }
   ],
   "source": [
    "# build the neural net\n",
    "model = Sequential()\n",
    "model.add(Dense(10, activation='softmax')) # layer 1\n",
    "model.add(Dense(10, activation='softmax')) # layer 2\n",
    "model.add(Dense(10, activation='softmax')) # layer 3\n",
    "model.compile(loss='categorical_crossentropy', optimizer='adam', metrics=['accuracy'])\n",
    "\n",
    "\n",
    "# fit the training data\n",
    "model.fit(x_train, y_train_onehot)\n",
    "\n",
    "\n",
    "# classify the training data\n",
    "yhat3 = model.predict(x_train)\n",
    "yhat3 = np.array([np.argmax(yhat3[i,:])for i in range(yhat3.shape[0])])\n",
    "print(classification_report(y_train, yhat3))\n",
    "\n",
    "\n",
    "# classify the test data\n",
    "yhat3 = model.predict(x_test)\n",
    "yhat3 = np.array([np.argmax(yhat3[i,:])for i in range(yhat3.shape[0])])\n",
    "print(classification_report(y_test, yhat3))"
   ]
  },
  {
   "cell_type": "markdown",
   "metadata": {},
   "source": [
    "# 4-layer neural net"
   ]
  },
  {
   "cell_type": "code",
   "execution_count": 14,
   "metadata": {},
   "outputs": [
    {
     "name": "stdout",
     "output_type": "stream",
     "text": [
      "1875/1875 [==============================] - 2s 1ms/step - loss: 2.0361 - accuracy: 0.2441\n",
      "              precision    recall  f1-score   support\n",
      "\n",
      "           0       0.21      0.98      0.35      5923\n",
      "           1       0.35      0.94      0.51      6742\n",
      "           2       0.00      0.00      0.00      5958\n",
      "           3       0.00      0.00      0.00      6131\n",
      "           4       0.39      0.97      0.56      5842\n",
      "           5       0.00      0.00      0.00      5421\n",
      "           6       0.00      0.00      0.00      5918\n",
      "           7       0.08      0.00      0.00      6265\n",
      "           8       0.43      0.00      0.00      5851\n",
      "           9       0.33      0.00      0.00      5949\n",
      "\n",
      "    accuracy                           0.30     60000\n",
      "   macro avg       0.18      0.29      0.14     60000\n",
      "weighted avg       0.18      0.30      0.15     60000\n",
      "\n",
      "              precision    recall  f1-score   support\n",
      "\n",
      "           0       0.21      0.98      0.35       980\n",
      "           1       0.36      0.95      0.52      1135\n",
      "           2       0.00      0.00      0.00      1032\n",
      "           3       0.00      0.00      0.00      1010\n",
      "           4       0.39      0.97      0.56       982\n",
      "           5       0.00      0.00      0.00       892\n",
      "           6       0.00      0.00      0.00       958\n",
      "           7       0.33      0.00      0.00      1028\n",
      "           8       0.00      0.00      0.00       974\n",
      "           9       0.00      0.00      0.00      1009\n",
      "\n",
      "    accuracy                           0.30     10000\n",
      "   macro avg       0.13      0.29      0.14     10000\n",
      "weighted avg       0.13      0.30      0.15     10000\n",
      "\n"
     ]
    }
   ],
   "source": [
    "# build the neural net\n",
    "model = Sequential()\n",
    "model.add(Dense(10, activation='softmax')) # layer 1\n",
    "model.add(Dense(10, activation='softmax')) # layer 2\n",
    "model.add(Dense(10, activation='softmax')) # layer 3\n",
    "model.add(Dense(10, activation='softmax')) # layer 4\n",
    "model.compile(loss='categorical_crossentropy', optimizer='adam', metrics=['accuracy'])\n",
    "\n",
    "\n",
    "# fit the training data\n",
    "model.fit(x_train, y_train_onehot)\n",
    "\n",
    "\n",
    "# classify the training data\n",
    "yhat3 = model.predict(x_train)\n",
    "yhat3 = np.array([np.argmax(yhat3[i,:])for i in range(yhat3.shape[0])])\n",
    "print(classification_report(y_train, yhat3))\n",
    "\n",
    "\n",
    "# classify the test data\n",
    "yhat3 = model.predict(x_test)\n",
    "yhat3 = np.array([np.argmax(yhat3[i,:])for i in range(yhat3.shape[0])])\n",
    "print(classification_report(y_test, yhat3))"
   ]
  },
  {
   "cell_type": "markdown",
   "metadata": {},
   "source": [
    "# 5-layer neural net"
   ]
  },
  {
   "cell_type": "code",
   "execution_count": 15,
   "metadata": {},
   "outputs": [
    {
     "name": "stdout",
     "output_type": "stream",
     "text": [
      "1875/1875 [==============================] - 2s 1ms/step - loss: 2.2408 - accuracy: 0.1448\n",
      "              precision    recall  f1-score   support\n",
      "\n",
      "           0       0.00      0.00      0.00      5923\n",
      "           1       0.33      0.97      0.49      6742\n",
      "           2       0.00      0.00      0.00      5958\n",
      "           3       0.00      0.00      0.00      6131\n",
      "           4       0.00      0.00      0.00      5842\n",
      "           5       0.00      0.00      0.00      5421\n",
      "           6       0.00      0.00      0.00      5918\n",
      "           7       0.00      0.00      0.00      6265\n",
      "           8       0.00      0.00      0.00      5851\n",
      "           9       0.15      0.98      0.25      5949\n",
      "\n",
      "    accuracy                           0.21     60000\n",
      "   macro avg       0.05      0.20      0.07     60000\n",
      "weighted avg       0.05      0.21      0.08     60000\n",
      "\n",
      "              precision    recall  f1-score   support\n",
      "\n",
      "           0       0.00      0.00      0.00       980\n",
      "           1       0.33      0.98      0.49      1135\n",
      "           2       0.00      0.00      0.00      1032\n",
      "           3       0.00      0.00      0.00      1010\n",
      "           4       0.00      0.00      0.00       982\n",
      "           5       0.00      0.00      0.00       892\n",
      "           6       0.00      0.00      0.00       958\n",
      "           7       1.00      0.00      0.00      1028\n",
      "           8       0.00      0.00      0.00       974\n",
      "           9       0.15      0.99      0.26      1009\n",
      "\n",
      "    accuracy                           0.21     10000\n",
      "   macro avg       0.15      0.20      0.08     10000\n",
      "weighted avg       0.16      0.21      0.08     10000\n",
      "\n"
     ]
    }
   ],
   "source": [
    "# build the neural net\n",
    "model = Sequential()\n",
    "model.add(Dense(10, activation='softmax')) # layer 1\n",
    "model.add(Dense(10, activation='softmax')) # layer 2\n",
    "model.add(Dense(10, activation='softmax')) # layer 3\n",
    "model.add(Dense(10, activation='softmax')) # layer 4\n",
    "model.add(Dense(10, activation='softmax')) # layer 5\n",
    "model.compile(loss='categorical_crossentropy', optimizer='adam', metrics=['accuracy'])\n",
    "\n",
    "\n",
    "# fit the training data\n",
    "model.fit(x_train, y_train_onehot)\n",
    "\n",
    "\n",
    "# classify the training data\n",
    "yhat3 = model.predict(x_train)\n",
    "yhat3 = np.array([np.argmax(yhat3[i,:])for i in range(yhat3.shape[0])])\n",
    "print(classification_report(y_train, yhat3))\n",
    "\n",
    "\n",
    "# classify the test data\n",
    "yhat3 = model.predict(x_test)\n",
    "yhat3 = np.array([np.argmax(yhat3[i,:])for i in range(yhat3.shape[0])])\n",
    "print(classification_report(y_test, yhat3))"
   ]
  }
 ],
 "metadata": {
  "kernelspec": {
   "display_name": "Python 3",
   "language": "python",
   "name": "python3"
  },
  "language_info": {
   "codemirror_mode": {
    "name": "ipython",
    "version": 3
   },
   "file_extension": ".py",
   "mimetype": "text/x-python",
   "name": "python",
   "nbconvert_exporter": "python",
   "pygments_lexer": "ipython3",
   "version": "3.8.3"
  }
 },
 "nbformat": 4,
 "nbformat_minor": 4
}
